{
 "cells": [
  {
   "cell_type": "markdown",
   "metadata": {},
   "source": [
    "### Student Information\n",
    "Name: Samantha Lawson\n",
    "\n",
    "Student ID: T14305118\n",
    "\n",
    "GitHub ID: sclawson39"
   ]
  },
  {
   "cell_type": "markdown",
   "metadata": {},
   "source": [
    "---"
   ]
  },
  {
   "cell_type": "markdown",
   "metadata": {},
   "source": [
    "### Instructions"
   ]
  },
  {
   "cell_type": "markdown",
   "metadata": {},
   "source": [
    "### First Phase Submission"
   ]
  },
  {
   "cell_type": "markdown",
   "metadata": {},
   "source": [
    "1. First: do the **take home** exercises in the [DM2025-Lab1-Master](https://github.com/leoson-wu/DM2025-Lab1-Exercise/blob/main/DM2025-Lab1-Master.ipynb) that considered as **phase 1 (from exercise 1 to exercise 15)**. You can answer in the master file. __This part is worth 10% of your grade.__\n",
    "\n",
    "\n",
    "2. Second: follow the same process from the [DM2025-Lab1-Master](https://github.com/leoson-wu/DM2025-Lab1-Exercise/blob/main/DM2025-Lab1-Master.ipynb) on **the new dataset** up **until phase 1**. You can skip some exercises if you think some steps are not necessary. However main exercises should be completed. You don't need to explain all details as we did (some **minimal comments** explaining your code are useful though).  __This part is worth 15% of your grade.__\n",
    "    -  Use [the new dataset](https://github.com/leoson-wu/DM2025-Lab1-Exercise/blob/main/newdataset/Reddit-stock-sentiment.csv). The dataset contains a 16 columns including 'text' and 'label', with the sentiment labels being: 1.0 is positive, 0.0 is neutral and -1.0 is negative. You can simplify the dataset and use only the columns that you think are necessary. \n",
    "    \n",
    "    - You are allowed to use and modify the `helper` functions in the folder of the first lab session (notice they may need modification) or create your own.\n",
    "    - Use this file to complete the homework from the second part. Make sure the code can be run from the beginning till the end and has all the needed output.\n",
    "\n",
    "\n",
    "3. Third: please attempt the following tasks on **the new dataset**. __This part is worth 10% of your grade.__\n",
    "    - Generate meaningful **new data visualizations**. Refer to online resources and the Data Mining textbook for inspiration and ideas. \n",
    "    \n",
    "\n",
    "\n",
    "4. Fourth: It's hard for us to follow if your code is messy, so please **tidy up your notebook** and **add minimal comments where needed**. __This part is worth 5% of your grade.__\n",
    "\n",
    "You can submit your homework following these guidelines: [DM2025-Lab1-announcement](https://github.com/leoson-wu/DM2025-Lab1-Announcement/blob/main/README.md). Make sure to commit and save your changes to your repository __BEFORE the deadline (September 28th 11:59 pm, Sunday)__. "
   ]
  },
  {
   "cell_type": "markdown",
   "metadata": {},
   "source": [
    "### Second Phase Submission "
   ]
  },
  {
   "cell_type": "markdown",
   "metadata": {},
   "source": [
    "**You can keep the answer for phase 1 for easier running and update the phase 2 on the same page.**\n",
    "\n",
    "1. First: Continue doing the **take home** exercises in the [DM2025-Lab1-Master](https://github.com/leoson-wu/DM2025-Lab1-Exercise/blob/main/DM2025-Lab1-Master.ipynb) for **phase 2, starting from Finding frequent patterns**. Use the same master(.ipynb) file. Answer from phase 1 will not be considered at this stage. You can answer in the master file. __This part is worth 10% of your grade.__\n",
    "\n",
    "\n",
    "2. Second: Continue from first phase and do the same process from the [DM2025-Lab1-Master](https://github.com/leoson-wu/DM2025-Lab1-Exercise/blob/main/DM2025-Lab1-Master.ipynb) on **the new dataset** for phase 2, starting from Finding frequent pattern. You can skip some exercises if you think some steps are not necessary. However main exercises should be completed. You don't need to explain all details as we did (some **minimal comments** explaining your code are useful though).  __This part is worth 15% of your grade.__\n",
    "    - Continue using this file to complete the homework from the second part. Make sure the code can be run from the beginning till the end and has all the needed output. Use the same new dataset as in phase 1.\n",
    "    \n",
    "    - You are allowed to use and modify the `helper` functions in the folder of the first lab session (notice they may need modification) or create your own.\n",
    "\n",
    "3. Third: please attempt the following tasks on **the new dataset**. __This part is worth 20% of your grade.__\n",
    "    - Use this file to answer.\n",
    "    - Generate **TF-IDF features** from the tokens of each text. This will generating a document matrix, however, the weights will be computed differently (using the TF-IDF value of each word per document as opposed to the word frequency).  Refer to this Scikit-learn [guide](http://scikit-learn.org/stable/modules/generated/sklearn.feature_extraction.text.TfidfVectorizer.html) .\n",
    "    - Implement a simple **Naive Bayes classifier** that automatically classifies the records into their categories. Use both the TF-IDF features and word frequency features to build two seperate classifiers. Note that for the TF-IDF features you might need to use other type of NB classifier different than the one in the Master Notebook. Comment on the differences and when using augmentation with feature pattern.  Refer to this [article](https://hub.packtpub.com/implementing-3-naive-bayes-classifiers-in-scikit-learn/).\n",
    "\n",
    "\n",
    "4. Fourth: In the lab, we applied each step really quickly just to illustrate how to work with your dataset. There are somethings that are not ideal or the most efficient/meaningful. Each dataset can be handled differently as well. What are those inefficent parts you noticed? How can you improve the Data preprocessing for these specific datasets? __This part is worth 10% of your grade.__\n",
    "\n",
    "\n",
    "5. Fifth: It's hard for us to follow if your code is messy, so please **tidy up your notebook** and **add minimal comments where needed**. __This part is worth 5% of your grade.__\n",
    "\n",
    "\n",
    "You can submit your homework following these guidelines: [DM2025-Lab1-announcement](https://github.com/leoson-wu/DM2025-Lab1-Announcement/blob/main/README.md). Make sure to commit and save your changes to your repository __BEFORE the deadline (October 19th 11:59 pm, Sunday)__. "
   ]
  },
  {
   "cell_type": "markdown",
   "metadata": {},
   "source": [
    "# Phase 1"
   ]
  },
  {
   "cell_type": "code",
   "execution_count": 79,
   "metadata": {},
   "outputs": [
    {
     "name": "stdout",
     "output_type": "stream",
     "text": [
      "Teachers pet ugh\n",
      "Trump will respond to china increasing their tariffs. Trump is looking to fire Jerome Powell. Earnings reporting is starting. I personally think the next few weeks are going to be brutal.... if all companies adjust downwards and JPow is fired, i can see it going down A LOT and very quickly even\n",
      "if he leaves trade & economic matters alone for the rest of his mandate & focuses on shower pressure & who can and cannot use toilets, the world economy will heal\n",
      "I work in finance writing (sort of) and it’s insane to see how much of “integrated marketing” is about scamming people into buying silver. Most of the big online edgy traders you see are snake oil salesmen trying to get you to invest in gold or silver. Really depressing.\n",
      "There are funds which directly hold physical gold/silver without any intermediate contracts and have vaults in Switzerland and Singapore but they are expensive. Examples are ZSIL.SW, ZGLD.SW, AUUSI.SW. I believe there should be quite many of similar ETFs in most countries (I listed only Swiss-domiciled).\n"
     ]
    }
   ],
   "source": [
    "#1. Data Source - importing dataframe and checking first several rows\n",
    "import pandas as pd\n",
    "df = pd.read_csv(r\"C:\\Users\\sclaw\\OneDrive\\Desktop\\NTU\\DataMining\\DM2025Labs\\DM2025-Lab1-Exercise\\newdataset\\Reddit-stock-sentiment.csv\")\n",
    "df.head()\n",
    "\n",
    "\n",
    "#2. Data Preparation\n",
    "\n",
    "subreddits = ['stocks', 'wallstreetbets']\n",
    "df_subset = df[df['subreddit'].isin(subreddits)].sample(frac=1, random_state=10)\n",
    "#Extracting a subset of reddit posts belonging to only the two specified subreddits, but randomly shuffled.\n",
    "\n",
    "#Viewing first two records\n",
    "df_subset[0:2]\n",
    "\n",
    "len(df_subset)\n",
    "\n",
    "#Printing example text from the subset, text for row 5\n",
    "print(df_subset.iloc[5,10])\n",
    "\n",
    "#Alternative using column names\n",
    "print(df_subset.loc[6, 'text'])\n",
    "\n",
    "#Extracting sentiment for first two records\n",
    "df_subset.sentiment[0:2]\n",
    "\n",
    "#Printing out text data for first three samples in Dataset \n",
    "for i in range(3):\n",
    "    print(df_subset['text'].iloc[i])\n"
   ]
  },
  {
   "cell_type": "code",
   "execution_count": 80,
   "metadata": {},
   "outputs": [
    {
     "data": {
      "text/html": [
       "<div>\n",
       "<style scoped>\n",
       "    .dataframe tbody tr th:only-of-type {\n",
       "        vertical-align: middle;\n",
       "    }\n",
       "\n",
       "    .dataframe tbody tr th {\n",
       "        vertical-align: top;\n",
       "    }\n",
       "\n",
       "    .dataframe thead th {\n",
       "        text-align: right;\n",
       "    }\n",
       "</style>\n",
       "<table border=\"1\" class=\"dataframe\">\n",
       "  <thead>\n",
       "    <tr style=\"text-align: right;\">\n",
       "      <th></th>\n",
       "      <th>type</th>\n",
       "      <th>datetime</th>\n",
       "      <th>post_id</th>\n",
       "      <th>subreddit</th>\n",
       "      <th>title</th>\n",
       "      <th>author</th>\n",
       "      <th>url</th>\n",
       "      <th>upvotes</th>\n",
       "      <th>downvotes</th>\n",
       "      <th>upvote_ratio</th>\n",
       "      <th>text</th>\n",
       "      <th>subjectivity</th>\n",
       "      <th>polarity</th>\n",
       "      <th>sentiment</th>\n",
       "      <th>entities</th>\n",
       "      <th>label</th>\n",
       "    </tr>\n",
       "  </thead>\n",
       "  <tbody>\n",
       "    <tr>\n",
       "      <th>817</th>\n",
       "      <td>comment</td>\n",
       "      <td>2021-02-01 14:11:17</td>\n",
       "      <td>glllg74</td>\n",
       "      <td>stocks</td>\n",
       "      <td>It's fucking awful seeing the \"Silver\" misinfo...</td>\n",
       "      <td>[deleted]</td>\n",
       "      <td>https://www.reddit.com/r/stocks/comments/la34b...</td>\n",
       "      <td>1</td>\n",
       "      <td>NaN</td>\n",
       "      <td>NaN</td>\n",
       "      <td>I work in finance writing (sort of) and it’s i...</td>\n",
       "      <td>0.590000</td>\n",
       "      <td>-0.3400</td>\n",
       "      <td>-1.0</td>\n",
       "      <td>['online', 'insane', 'gold', 'writing', 'oil',...</td>\n",
       "      <td>-1.0</td>\n",
       "    </tr>\n",
       "    <tr>\n",
       "      <th>601</th>\n",
       "      <td>comment</td>\n",
       "      <td>2021-02-01 16:08:57</td>\n",
       "      <td>glm3re4</td>\n",
       "      <td>stocks</td>\n",
       "      <td>It's fucking awful seeing the \"Silver\" misinfo...</td>\n",
       "      <td>CryptoGeologist</td>\n",
       "      <td>https://www.reddit.com/r/stocks/comments/la34b...</td>\n",
       "      <td>1</td>\n",
       "      <td>NaN</td>\n",
       "      <td>NaN</td>\n",
       "      <td>Cope harder</td>\n",
       "      <td>0.000000</td>\n",
       "      <td>-0.1000</td>\n",
       "      <td>-1.0</td>\n",
       "      <td>['harder', 'Cope']</td>\n",
       "      <td>-1.0</td>\n",
       "    </tr>\n",
       "    <tr>\n",
       "      <th>485</th>\n",
       "      <td>comment</td>\n",
       "      <td>2025-04-11 15:03:16</td>\n",
       "      <td>mmko8yq</td>\n",
       "      <td>stocks</td>\n",
       "      <td>r/Stocks Daily Discussion &amp; Fundamentals Frida...</td>\n",
       "      <td>jrex035</td>\n",
       "      <td>https://www.reddit.com/r/stocks/comments/1jwlr...</td>\n",
       "      <td>3</td>\n",
       "      <td>NaN</td>\n",
       "      <td>NaN</td>\n",
       "      <td>The more I read about the tariffs and Trump ad...</td>\n",
       "      <td>0.691111</td>\n",
       "      <td>-0.0700</td>\n",
       "      <td>-1.0</td>\n",
       "      <td>['policy', 'history', 'administration', 'helm'...</td>\n",
       "      <td>-1.0</td>\n",
       "    </tr>\n",
       "    <tr>\n",
       "      <th>547</th>\n",
       "      <td>comment</td>\n",
       "      <td>2025-04-12 2:14:30</td>\n",
       "      <td>mmo3v4z</td>\n",
       "      <td>wallstreetbets</td>\n",
       "      <td>Someone post the hotline please.</td>\n",
       "      <td>Westykins</td>\n",
       "      <td>https://i.redd.it/tcfuu97p7bue1.jpeg</td>\n",
       "      <td>1</td>\n",
       "      <td>NaN</td>\n",
       "      <td>NaN</td>\n",
       "      <td>I made 6k instead of a potential 9k and i’ve b...</td>\n",
       "      <td>0.900000</td>\n",
       "      <td>-0.4125</td>\n",
       "      <td>-1.0</td>\n",
       "      <td>['man', 'day', 've', '’', 'gon']</td>\n",
       "      <td>-1.0</td>\n",
       "    </tr>\n",
       "    <tr>\n",
       "      <th>600</th>\n",
       "      <td>comment</td>\n",
       "      <td>2025-04-11 13:55:11</td>\n",
       "      <td>mmkaotn</td>\n",
       "      <td>wallstreetbets</td>\n",
       "      <td>Weekly Earnings Thread 4/14 - 4/18</td>\n",
       "      <td>grhotz</td>\n",
       "      <td>https://i.redd.it/b51iqmecn7ue1.jpeg</td>\n",
       "      <td>2</td>\n",
       "      <td>NaN</td>\n",
       "      <td>NaN</td>\n",
       "      <td>Bank week is so boring. PUTS on NFLX</td>\n",
       "      <td>1.000000</td>\n",
       "      <td>-1.0000</td>\n",
       "      <td>-1.0</td>\n",
       "      <td>['week', 'Bank', 'NFLX', 'Bank week']</td>\n",
       "      <td>-1.0</td>\n",
       "    </tr>\n",
       "  </tbody>\n",
       "</table>\n",
       "</div>"
      ],
      "text/plain": [
       "        type             datetime  post_id       subreddit  \\\n",
       "817  comment  2021-02-01 14:11:17  glllg74          stocks   \n",
       "601  comment  2021-02-01 16:08:57  glm3re4          stocks   \n",
       "485  comment  2025-04-11 15:03:16  mmko8yq          stocks   \n",
       "547  comment   2025-04-12 2:14:30  mmo3v4z  wallstreetbets   \n",
       "600  comment  2025-04-11 13:55:11  mmkaotn  wallstreetbets   \n",
       "\n",
       "                                                 title           author  \\\n",
       "817  It's fucking awful seeing the \"Silver\" misinfo...        [deleted]   \n",
       "601  It's fucking awful seeing the \"Silver\" misinfo...  CryptoGeologist   \n",
       "485  r/Stocks Daily Discussion & Fundamentals Frida...          jrex035   \n",
       "547                   Someone post the hotline please.        Westykins   \n",
       "600                 Weekly Earnings Thread 4/14 - 4/18           grhotz   \n",
       "\n",
       "                                                   url  upvotes  downvotes  \\\n",
       "817  https://www.reddit.com/r/stocks/comments/la34b...        1        NaN   \n",
       "601  https://www.reddit.com/r/stocks/comments/la34b...        1        NaN   \n",
       "485  https://www.reddit.com/r/stocks/comments/1jwlr...        3        NaN   \n",
       "547               https://i.redd.it/tcfuu97p7bue1.jpeg        1        NaN   \n",
       "600               https://i.redd.it/b51iqmecn7ue1.jpeg        2        NaN   \n",
       "\n",
       "     upvote_ratio                                               text  \\\n",
       "817           NaN  I work in finance writing (sort of) and it’s i...   \n",
       "601           NaN                                        Cope harder   \n",
       "485           NaN  The more I read about the tariffs and Trump ad...   \n",
       "547           NaN  I made 6k instead of a potential 9k and i’ve b...   \n",
       "600           NaN               Bank week is so boring. PUTS on NFLX   \n",
       "\n",
       "     subjectivity  polarity  sentiment  \\\n",
       "817      0.590000   -0.3400       -1.0   \n",
       "601      0.000000   -0.1000       -1.0   \n",
       "485      0.691111   -0.0700       -1.0   \n",
       "547      0.900000   -0.4125       -1.0   \n",
       "600      1.000000   -1.0000       -1.0   \n",
       "\n",
       "                                              entities  label  \n",
       "817  ['online', 'insane', 'gold', 'writing', 'oil',...   -1.0  \n",
       "601                                 ['harder', 'Cope']   -1.0  \n",
       "485  ['policy', 'history', 'administration', 'helm'...   -1.0  \n",
       "547                   ['man', 'day', 've', '’', 'gon']   -1.0  \n",
       "600              ['week', 'Bank', 'NFLX', 'Bank week']   -1.0  "
      ]
     },
     "execution_count": 80,
     "metadata": {},
     "output_type": "execute_result"
    }
   ],
   "source": [
    "#3. Data Transformation\n",
    "#Since dataset is already in the format of a dataframe, transformations can be applied directly.\n",
    "#Querying the dataset\n",
    "df_subset['subreddit'].value_counts(normalize = True)\n",
    "df_subset['sentiment'].value_counts(normalize = True)\n",
    "\n",
    "#Ex3: Fetching records with negative sentiment and querying every 10th records, outputting first 5\n",
    "df_subset[df_subset[\"sentiment\"] == -1.0][::10][0:5]\n",
    "\n"
   ]
  },
  {
   "cell_type": "code",
   "execution_count": 81,
   "metadata": {},
   "outputs": [
    {
     "data": {
      "text/html": [
       "<div>\n",
       "<style scoped>\n",
       "    .dataframe tbody tr th:only-of-type {\n",
       "        vertical-align: middle;\n",
       "    }\n",
       "\n",
       "    .dataframe tbody tr th {\n",
       "        vertical-align: top;\n",
       "    }\n",
       "\n",
       "    .dataframe thead th {\n",
       "        text-align: right;\n",
       "    }\n",
       "</style>\n",
       "<table border=\"1\" class=\"dataframe\">\n",
       "  <thead>\n",
       "    <tr style=\"text-align: right;\">\n",
       "      <th></th>\n",
       "      <th>type</th>\n",
       "      <th>datetime</th>\n",
       "      <th>post_id</th>\n",
       "      <th>subreddit</th>\n",
       "      <th>title</th>\n",
       "      <th>author</th>\n",
       "      <th>url</th>\n",
       "      <th>upvotes</th>\n",
       "      <th>downvotes</th>\n",
       "      <th>upvote_ratio</th>\n",
       "      <th>text</th>\n",
       "      <th>subjectivity</th>\n",
       "      <th>polarity</th>\n",
       "      <th>sentiment</th>\n",
       "      <th>entities</th>\n",
       "      <th>label</th>\n",
       "    </tr>\n",
       "  </thead>\n",
       "  <tbody>\n",
       "    <tr>\n",
       "      <th>0</th>\n",
       "      <td>The amoung of missing records is:</td>\n",
       "      <td>The amoung of missing records is:</td>\n",
       "      <td>The amoung of missing records is:</td>\n",
       "      <td>The amoung of missing records is:</td>\n",
       "      <td>The amoung of missing records is:</td>\n",
       "      <td>The amoung of missing records is:</td>\n",
       "      <td>The amoung of missing records is:</td>\n",
       "      <td>The amoung of missing records is:</td>\n",
       "      <td>The amoung of missing records is:</td>\n",
       "      <td>The amoung of missing records is:</td>\n",
       "      <td>The amoung of missing records is:</td>\n",
       "      <td>The amoung of missing records is:</td>\n",
       "      <td>The amoung of missing records is:</td>\n",
       "      <td>The amoung of missing records is:</td>\n",
       "      <td>The amoung of missing records is:</td>\n",
       "      <td>The amoung of missing records is:</td>\n",
       "    </tr>\n",
       "    <tr>\n",
       "      <th>1</th>\n",
       "      <td>0</td>\n",
       "      <td>0</td>\n",
       "      <td>0</td>\n",
       "      <td>0</td>\n",
       "      <td>0</td>\n",
       "      <td>0</td>\n",
       "      <td>0</td>\n",
       "      <td>0</td>\n",
       "      <td>0</td>\n",
       "      <td>0</td>\n",
       "      <td>0</td>\n",
       "      <td>0</td>\n",
       "      <td>0</td>\n",
       "      <td>0</td>\n",
       "      <td>0</td>\n",
       "      <td>0</td>\n",
       "    </tr>\n",
       "  </tbody>\n",
       "</table>\n",
       "</div>"
      ],
      "text/plain": [
       "                                 type                            datetime  \\\n",
       "0  The amoung of missing records is:   The amoung of missing records is:    \n",
       "1                                   0                                   0   \n",
       "\n",
       "                              post_id                           subreddit  \\\n",
       "0  The amoung of missing records is:   The amoung of missing records is:    \n",
       "1                                   0                                   0   \n",
       "\n",
       "                                title                              author  \\\n",
       "0  The amoung of missing records is:   The amoung of missing records is:    \n",
       "1                                   0                                   0   \n",
       "\n",
       "                                  url                             upvotes  \\\n",
       "0  The amoung of missing records is:   The amoung of missing records is:    \n",
       "1                                   0                                   0   \n",
       "\n",
       "                            downvotes                        upvote_ratio  \\\n",
       "0  The amoung of missing records is:   The amoung of missing records is:    \n",
       "1                                   0                                   0   \n",
       "\n",
       "                                 text                        subjectivity  \\\n",
       "0  The amoung of missing records is:   The amoung of missing records is:    \n",
       "1                                   0                                   0   \n",
       "\n",
       "                             polarity                           sentiment  \\\n",
       "0  The amoung of missing records is:   The amoung of missing records is:    \n",
       "1                                   0                                   0   \n",
       "\n",
       "                             entities                               label  \n",
       "0  The amoung of missing records is:   The amoung of missing records is:   \n",
       "1                                   0                                   0  "
      ]
     },
     "execution_count": 81,
     "metadata": {},
     "output_type": "execute_result"
    }
   ],
   "source": [
    "#4. Data Mining using Pandas\n",
    "\n",
    "# my functions\n",
    "import helpers.data_mining_helpers as dmh\n",
    "\n",
    "#Checkign for missing values\n",
    "\n",
    "df_subset.isnull()\n",
    "df_subset.isnull().apply(lambda x: dmh.check_missing_values(x))\n",
    "#As to be expected, not every post will have a downvote or upvote_ratio, resulting in missing values \n",
    "\n",
    "#Checkign by record is as follows, \n",
    "df_subset.isnull().apply(lambda x: dmh.check_missing_values(x), axis= 1)\n",
    "\n",
    "#This indicates that most records contain 2 missing values, hence it would be unwise to remove these from the dataset altogeher. \n",
    "#Rather than removing, the 'downvotes' and 'upvote_ratio' NaN columns can be filled with 0 as this makes the most sense contextually. \n",
    "df_subset.fillna({'downvotes':0}, inplace= True)\n",
    "df_subset.fillna({'upvote_ratio':0}, inplace=True)\n",
    "\n",
    "#Checking again for NaN values\n",
    "df_subset.isnull()\n",
    "df_subset.isnull().apply(lambda x: dmh.check_missing_values(x))"
   ]
  },
  {
   "cell_type": "code",
   "execution_count": 89,
   "metadata": {},
   "outputs": [
    {
     "name": "stdout",
     "output_type": "stream",
     "text": [
      "subreddit\n",
      "stocks            274\n",
      "wallstreetbets    149\n",
      "Name: count, dtype: int64\n",
      "subreddit\n",
      "stocks            65\n",
      "wallstreetbets    35\n",
      "Name: count, dtype: int64\n"
     ]
    },
    {
     "data": {
      "text/plain": [
       "<Axes: title={'center': 'Comparative category distributions'}, xlabel='subreddit'>"
      ]
     },
     "execution_count": 89,
     "metadata": {},
     "output_type": "execute_result"
    },
    {
     "data": {
      "image/png": "[encoded data removed]",
      "text/plain": [
       "<Figure size 900x300 with 1 Axes>"
      ]
     },
     "metadata": {},
     "output_type": "display_data"
    }
   ],
   "source": [
    "#5. Data Preprocessing \n",
    "df_subset_sample = df_subset.sample(n=100)\n",
    "len(df_subset_sample)\n",
    "\n",
    "import matplotlib.pyplot as plt\n",
    "%matplotlib inline\n",
    "\n",
    "#Looking at comparative distributions by subreddit\n",
    "print(df_subset.subreddit.value_counts())\n",
    "print(df_subset_sample.subreddit.value_counts())\n",
    "\n",
    "#Side-by-side comparison of distribution between the two datasets\n",
    "pd.DataFrame({\n",
    "    'df_subset' : df_subset['subreddit'].value_counts().sort_index(),\n",
    "    'df_subset_sample': df_subset_sample['subreddit'].value_counts().sort_index()\n",
    "}).plot(kind='bar',\n",
    "        title = 'Comparative category distributions',\n",
    "        ylim = [0, df_subset.subreddit.value_counts().max()+50],\n",
    "        rot = 0, fontsize = 12, figsize=(9,3))\n",
    "\n"
   ]
  },
  {
   "cell_type": "code",
   "execution_count": 97,
   "metadata": {},
   "outputs": [
    {
     "name": "stderr",
     "output_type": "stream",
     "text": [
      "[nltk_data] Downloading package punkt to\n",
      "[nltk_data]     C:\\Users\\sclaw\\AppData\\Roaming\\nltk_data...\n",
      "[nltk_data]   Package punkt is already up-to-date!\n",
      "[nltk_data] Downloading package punkt_tab to\n",
      "[nltk_data]     C:\\Users\\sclaw\\AppData\\Roaming\\nltk_data...\n",
      "[nltk_data]   Package punkt_tab is already up-to-date!\n"
     ]
    },
    {
     "data": {
      "text/html": [
       "<div>\n",
       "<style scoped>\n",
       "    .dataframe tbody tr th:only-of-type {\n",
       "        vertical-align: middle;\n",
       "    }\n",
       "\n",
       "    .dataframe tbody tr th {\n",
       "        vertical-align: top;\n",
       "    }\n",
       "\n",
       "    .dataframe thead th {\n",
       "        text-align: right;\n",
       "    }\n",
       "</style>\n",
       "<table border=\"1\" class=\"dataframe\">\n",
       "  <thead>\n",
       "    <tr style=\"text-align: right;\">\n",
       "      <th></th>\n",
       "      <th>type</th>\n",
       "      <th>datetime</th>\n",
       "      <th>post_id</th>\n",
       "      <th>subreddit</th>\n",
       "      <th>title</th>\n",
       "      <th>author</th>\n",
       "      <th>url</th>\n",
       "      <th>upvotes</th>\n",
       "      <th>downvotes</th>\n",
       "      <th>upvote_ratio</th>\n",
       "      <th>text</th>\n",
       "      <th>subjectivity</th>\n",
       "      <th>polarity</th>\n",
       "      <th>sentiment</th>\n",
       "      <th>entities</th>\n",
       "      <th>label</th>\n",
       "      <th>unigrams</th>\n",
       "    </tr>\n",
       "  </thead>\n",
       "  <tbody>\n",
       "    <tr>\n",
       "      <th>804</th>\n",
       "      <td>comment</td>\n",
       "      <td>2025-04-11 15:31:50</td>\n",
       "      <td>mmku366</td>\n",
       "      <td>stocks</td>\n",
       "      <td>r/Stocks Daily Discussion &amp; Fundamentals Frida...</td>\n",
       "      <td>giggy13</td>\n",
       "      <td>https://www.reddit.com/r/stocks/comments/1jwlr...</td>\n",
       "      <td>3</td>\n",
       "      <td>0.0</td>\n",
       "      <td>0.0</td>\n",
       "      <td>if he leaves trade &amp; economic matters alone fo...</td>\n",
       "      <td>0.100000</td>\n",
       "      <td>0.083333</td>\n",
       "      <td>1.0</td>\n",
       "      <td>['economy', 'rest', 'world', 'pressure', 'mand...</td>\n",
       "      <td>1.0</td>\n",
       "      <td>[if, he, leaves, trade, &amp;, economic, matters, ...</td>\n",
       "    </tr>\n",
       "    <tr>\n",
       "      <th>817</th>\n",
       "      <td>comment</td>\n",
       "      <td>2021-02-01 14:11:17</td>\n",
       "      <td>glllg74</td>\n",
       "      <td>stocks</td>\n",
       "      <td>It's fucking awful seeing the \"Silver\" misinfo...</td>\n",
       "      <td>[deleted]</td>\n",
       "      <td>https://www.reddit.com/r/stocks/comments/la34b...</td>\n",
       "      <td>1</td>\n",
       "      <td>0.0</td>\n",
       "      <td>0.0</td>\n",
       "      <td>I work in finance writing (sort of) and it’s i...</td>\n",
       "      <td>0.590000</td>\n",
       "      <td>-0.340000</td>\n",
       "      <td>-1.0</td>\n",
       "      <td>['online', 'insane', 'gold', 'writing', 'oil',...</td>\n",
       "      <td>-1.0</td>\n",
       "      <td>[I, work, in, finance, writing, (, sort, of, )...</td>\n",
       "    </tr>\n",
       "    <tr>\n",
       "      <th>77</th>\n",
       "      <td>comment</td>\n",
       "      <td>2025-04-11 15:37:29</td>\n",
       "      <td>mmkv8nq</td>\n",
       "      <td>stocks</td>\n",
       "      <td>Formerly Stable US Treasuries Are Trading Like...</td>\n",
       "      <td>HeavySink3303</td>\n",
       "      <td>https://www.reddit.com/r/stocks/comments/1jwpf...</td>\n",
       "      <td>1</td>\n",
       "      <td>0.0</td>\n",
       "      <td>0.0</td>\n",
       "      <td>There are funds which directly hold physical g...</td>\n",
       "      <td>0.428571</td>\n",
       "      <td>0.020000</td>\n",
       "      <td>1.0</td>\n",
       "      <td>['ZGLD.SW', 'AUUSI.SW', 'ETFs', 'Switzerland',...</td>\n",
       "      <td>0.0</td>\n",
       "      <td>[There, are, funds, which, directly, hold, phy...</td>\n",
       "    </tr>\n",
       "    <tr>\n",
       "      <th>305</th>\n",
       "      <td>comment</td>\n",
       "      <td>2025-04-11 16:46:54</td>\n",
       "      <td>mml9bc8</td>\n",
       "      <td>wallstreetbets</td>\n",
       "      <td>[IPO] AIRO IPO: Aerospace &amp; Defense Play at $1...</td>\n",
       "      <td>Secret_Cauliflower92</td>\n",
       "      <td>https://i.redd.it/n22xlqjix7ue1.jpeg</td>\n",
       "      <td>1</td>\n",
       "      <td>0.0</td>\n",
       "      <td>0.0</td>\n",
       "      <td>You can evaluate the price of a company by loo...</td>\n",
       "      <td>0.300000</td>\n",
       "      <td>-0.133333</td>\n",
       "      <td>-1.0</td>\n",
       "      <td>['intern', 'fuck', 'revenue', 'price', 'capita...</td>\n",
       "      <td>-1.0</td>\n",
       "      <td>[You, can, evaluate, the, price, of, a, compan...</td>\n",
       "    </tr>\n",
       "  </tbody>\n",
       "</table>\n",
       "</div>"
      ],
      "text/plain": [
       "        type             datetime  post_id       subreddit  \\\n",
       "804  comment  2025-04-11 15:31:50  mmku366          stocks   \n",
       "817  comment  2021-02-01 14:11:17  glllg74          stocks   \n",
       "77   comment  2025-04-11 15:37:29  mmkv8nq          stocks   \n",
       "305  comment  2025-04-11 16:46:54  mml9bc8  wallstreetbets   \n",
       "\n",
       "                                                 title                author  \\\n",
       "804  r/Stocks Daily Discussion & Fundamentals Frida...               giggy13   \n",
       "817  It's fucking awful seeing the \"Silver\" misinfo...             [deleted]   \n",
       "77   Formerly Stable US Treasuries Are Trading Like...         HeavySink3303   \n",
       "305  [IPO] AIRO IPO: Aerospace & Defense Play at $1...  Secret_Cauliflower92   \n",
       "\n",
       "                                                   url  upvotes  downvotes  \\\n",
       "804  https://www.reddit.com/r/stocks/comments/1jwlr...        3        0.0   \n",
       "817  https://www.reddit.com/r/stocks/comments/la34b...        1        0.0   \n",
       "77   https://www.reddit.com/r/stocks/comments/1jwpf...        1        0.0   \n",
       "305               https://i.redd.it/n22xlqjix7ue1.jpeg        1        0.0   \n",
       "\n",
       "     upvote_ratio                                               text  \\\n",
       "804           0.0  if he leaves trade & economic matters alone fo...   \n",
       "817           0.0  I work in finance writing (sort of) and it’s i...   \n",
       "77            0.0  There are funds which directly hold physical g...   \n",
       "305           0.0  You can evaluate the price of a company by loo...   \n",
       "\n",
       "     subjectivity  polarity  sentiment  \\\n",
       "804      0.100000  0.083333        1.0   \n",
       "817      0.590000 -0.340000       -1.0   \n",
       "77       0.428571  0.020000        1.0   \n",
       "305      0.300000 -0.133333       -1.0   \n",
       "\n",
       "                                              entities  label  \\\n",
       "804  ['economy', 'rest', 'world', 'pressure', 'mand...    1.0   \n",
       "817  ['online', 'insane', 'gold', 'writing', 'oil',...   -1.0   \n",
       "77   ['ZGLD.SW', 'AUUSI.SW', 'ETFs', 'Switzerland',...    0.0   \n",
       "305  ['intern', 'fuck', 'revenue', 'price', 'capita...   -1.0   \n",
       "\n",
       "                                              unigrams  \n",
       "804  [if, he, leaves, trade, &, economic, matters, ...  \n",
       "817  [I, work, in, finance, writing, (, sort, of, )...  \n",
       "77   [There, are, funds, which, directly, hold, phy...  \n",
       "305  [You, can, evaluate, the, price, of, a, compan...  "
      ]
     },
     "execution_count": 97,
     "metadata": {},
     "output_type": "execute_result"
    }
   ],
   "source": [
    "#5.2 Feature Creation\n",
    "import nltk\n",
    "nltk.download(\"punkt\")\n",
    "nltk.download(\"punkt_tab\")\n",
    "\n",
    "df_subset['unigrams'] = df_subset['text'].apply(lambda x: dmh.tokenize_text(x))\n",
    "df_subset[0:4][\"unigrams\"]\n",
    "df_subset[0:4]\n",
    "\n"
   ]
  },
  {
   "cell_type": "code",
   "execution_count": 104,
   "metadata": {},
   "outputs": [
    {
     "name": "stdout",
     "output_type": "stream",
     "text": [
      "  (np.int32(0), np.int32(1262))\t1\n",
      "  (np.int32(0), np.int32(1174))\t1\n",
      "  (np.int32(0), np.int32(1446))\t1\n",
      "  (np.int32(0), np.int32(2533))\t1\n",
      "  (np.int32(0), np.int32(815))\t1\n",
      "  (np.int32(0), np.int32(1566))\t1\n",
      "  (np.int32(0), np.int32(184))\t1\n",
      "  (np.int32(0), np.int32(1017))\t1\n",
      "  (np.int32(0), np.int32(2465))\t2\n",
      "  (np.int32(0), np.int32(2072))\t1\n",
      "  (np.int32(0), np.int32(1720))\t1\n",
      "  (np.int32(0), np.int32(1215))\t1\n",
      "  (np.int32(0), np.int32(1543))\t1\n",
      "  (np.int32(0), np.int32(1009))\t1\n",
      "  (np.int32(0), np.int32(1731))\t1\n",
      "  (np.int32(0), np.int32(2232))\t1\n",
      "  (np.int32(0), np.int32(1900))\t1\n",
      "  (np.int32(0), np.int32(2715))\t1\n",
      "  (np.int32(0), np.int32(451))\t1\n",
      "  (np.int32(0), np.int32(203))\t1\n",
      "  (np.int32(0), np.int32(457))\t1\n",
      "  (np.int32(0), np.int32(2622))\t1\n",
      "  (np.int32(0), np.int32(2519))\t1\n",
      "  (np.int32(0), np.int32(2757))\t1\n",
      "  (np.int32(0), np.int32(819))\t1\n",
      "  (np.int32(0), np.int32(2730))\t1\n",
      "  (np.int32(0), np.int32(1180))\t1\n"
     ]
    },
    {
     "data": {
      "text/plain": [
       "array(['00', '000', '02', '03', '06', '10', '100', '1000', '10000', '10k'],\n",
       "      dtype=object)"
      ]
     },
     "execution_count": 104,
     "metadata": {},
     "output_type": "execute_result"
    }
   ],
   "source": [
    "#Transforming text to a term-document matrix \n",
    "from sklearn.feature_extraction.text import CountVectorizer\n",
    "\n",
    "count_vect = CountVectorizer()\n",
    "df_subset_counts = count_vect.fit_transform(df_subset.text) #learn the vocabulary and return document-term matrix\n",
    "print(df_subset_counts[0])\n",
    "\n",
    "#Analysing first record in the df_subset dataframe with the below analyser\n",
    "analyze = count_vect.build_analyzer()\n",
    "analyze(df_subset.text[1])\n",
    "\n",
    "#Obtaining matrix shame and feature names of vectorizer\n",
    "df_subset_counts.shape\n",
    "count_vect.get_feature_names_out()[0:10]\n"
   ]
  },
  {
   "cell_type": "code",
   "execution_count": 106,
   "metadata": {},
   "outputs": [
    {
     "data": {
      "image/png": "[encoded data removed]",
      "text/plain": [
       "<Figure size 900x700 with 2 Axes>"
      ]
     },
     "metadata": {},
     "output_type": "display_data"
    }
   ],
   "source": [
    "#Producing heat map of term-document matrix\n",
    "# first twenty features only\n",
    "plot_x = [\"term_\"+str(i) for i in count_vect.get_feature_names_out()[0:20]]\n",
    "# obtain document index\n",
    "plot_y = [\"doc_\"+ str(i) for i in list(df_subset.index)[0:20]]\n",
    "plot_z = df_subset_counts[0:20, 0:20].toarray() #X_counts[how many documents, how many terms]\n",
    "plot_z\n",
    "\n",
    "#Plotting as a heatmap\n",
    "import seaborn as sns\n",
    "\n",
    "df_todraw = pd.DataFrame(plot_z, columns = plot_x, index = plot_y)\n",
    "plt.subplots(figsize=(9, 7))\n",
    "ax = sns.heatmap(df_todraw,\n",
    "                 cmap=\"PuRd\",\n",
    "                 vmin=0, vmax=1, annot=True)\n",
    "\n"
   ]
  },
  {
   "cell_type": "code",
   "execution_count": 108,
   "metadata": {},
   "outputs": [
    {
     "data": {
      "image/png": "[encoded data removed]",
      "text/plain": [
       "<Figure size 1200x800 with 2 Axes>"
      ]
     },
     "metadata": {},
     "output_type": "display_data"
    }
   ],
   "source": [
    "#Creating more informative heatmap using 20 most frequent terms\n",
    "import numpy as np\n",
    "\n",
    "term_frequencies = np.asarray(df_subset_counts.sum(axis=0)).ravel()\n",
    "top_terms_idx = term_frequencies.argsort()[::-1][:20]  # top 20 most frequently appearing words\n",
    "\n",
    "#Prepares axis labels\n",
    "plot_x = [f\"term_{count_vect.get_feature_names_out()[i]}\" for i in top_terms_idx]\n",
    "plot_y = [f\"doc_{i}\" for i in range(20)]\n",
    "\n",
    "#extracting subset containing first 20 documents and columns of top 20 most frequent words, produces 20x20 matrix \n",
    "plot_z = df_subset_counts[0:20, top_terms_idx].toarray()\n",
    "\n",
    "df_todraw = pd.DataFrame(plot_z, columns=plot_x, index=plot_y)\n",
    "plt.subplots(figsize=(12, 8))\n",
    "sns.heatmap(df_todraw, cmap=\"PuRd\", vmin=0, vmax=np.max(plot_z), annot=True)  #but noting this mainly outputs stopwords, so perhaps not as informative. \n",
    "plt.show()\n",
    "\n"
   ]
  },
  {
   "cell_type": "code",
   "execution_count": 113,
   "metadata": {},
   "outputs": [
    {
     "data": {
      "application/vnd.plotly.v1+json": {
       "config": {
        "plotlyServerURL": "https://plot.ly"
       },
       "data": [
        {
         "hovertemplate": "Term=%{x}<br>Frequency=%{y}<extra></extra>",
         "legendgroup": "",
         "marker": {
          "color": "#636efa",
          "pattern": {
           "shape": ""
          }
         },
         "name": "",
         "orientation": "v",
         "showlegend": false,
         "textposition": "auto",
         "type": "bar",
         "x": [
          "the",
          "to",
          "and",
          "is",
          "it",
          "of",
          "in",
          "you",
          "that",
          "this",
          "for",
          "on",
          "are",
          "will",
          "be",
          "but",
          "if",
          "they",
          "with",
          "us",
          "as",
          "he",
          "all",
          "at",
          "my",
          "have",
          "so",
          "not",
          "like",
          "was",
          "what",
          "trump",
          "we",
          "or",
          "just",
          "there",
          "market",
          "can",
          "now",
          "no",
          "has",
          "your",
          "from",
          "people",
          "china",
          "their",
          "by",
          "think",
          "more",
          "re"
         ],
         "xaxis": "x",
         "y": {
          "bdata": "yAE3AeAAygDIAJoAlgB+AHYAZQBlAGUAVQBUAEsARwBFAEQAQAA/AD4APAA7ADsANwA3ADcANwAzADMAMgAvAC8AKwArACoAKgAqACkAKAAmACYAJQAkACQAIgAiACEAIQAgAA==",
          "dtype": "i2"
         },
         "yaxis": "y"
        }
       ],
       "layout": {
        "barmode": "relative",
        "legend": {
         "tracegroupgap": 0
        },
        "template": {
         "data": {
          "bar": [
           {
            "error_x": {
             "color": "#2a3f5f"
            },
            "error_y": {
             "color": "#2a3f5f"
            },
            "marker": {
             "line": {
              "color": "#E5ECF6",
              "width": 0.5
             },
             "pattern": {
              "fillmode": "overlay",
              "size": 10,
              "solidity": 0.2
             }
            },
            "type": "bar"
           }
          ],
          "barpolar": [
           {
            "marker": {
             "line": {
              "color": "#E5ECF6",
              "width": 0.5
             },
             "pattern": {
              "fillmode": "overlay",
              "size": 10,
              "solidity": 0.2
             }
            },
            "type": "barpolar"
           }
          ],
          "carpet": [
           {
            "aaxis": {
             "endlinecolor": "#2a3f5f",
             "gridcolor": "white",
             "linecolor": "white",
             "minorgridcolor": "white",
             "startlinecolor": "#2a3f5f"
            },
            "baxis": {
             "endlinecolor": "#2a3f5f",
             "gridcolor": "white",
             "linecolor": "white",
             "minorgridcolor": "white",
             "startlinecolor": "#2a3f5f"
            },
            "type": "carpet"
           }
          ],
          "choropleth": [
           {
            "colorbar": {
             "outlinewidth": 0,
             "ticks": ""
            },
            "type": "choropleth"
           }
          ],
          "contour": [
           {
            "colorbar": {
             "outlinewidth": 0,
             "ticks": ""
            },
            "colorscale": [
             [
              0,
              "#0d0887"
             ],
             [
              0.1111111111111111,
              "#46039f"
             ],
             [
              0.2222222222222222,
              "#7201a8"
             ],
             [
              0.3333333333333333,
              "#9c179e"
             ],
             [
              0.4444444444444444,
              "#bd3786"
             ],
             [
              0.5555555555555556,
              "#d8576b"
             ],
             [
              0.6666666666666666,
              "#ed7953"
             ],
             [
              0.7777777777777778,
              "#fb9f3a"
             ],
             [
              0.8888888888888888,
              "#fdca26"
             ],
             [
              1,
              "#f0f921"
             ]
            ],
            "type": "contour"
           }
          ],
          "contourcarpet": [
           {
            "colorbar": {
             "outlinewidth": 0,
             "ticks": ""
            },
            "type": "contourcarpet"
           }
          ],
          "heatmap": [
           {
            "colorbar": {
             "outlinewidth": 0,
             "ticks": ""
            },
            "colorscale": [
             [
              0,
              "#0d0887"
             ],
             [
              0.1111111111111111,
              "#46039f"
             ],
             [
              0.2222222222222222,
              "#7201a8"
             ],
             [
              0.3333333333333333,
              "#9c179e"
             ],
             [
              0.4444444444444444,
              "#bd3786"
             ],
             [
              0.5555555555555556,
              "#d8576b"
             ],
             [
              0.6666666666666666,
              "#ed7953"
             ],
             [
              0.7777777777777778,
              "#fb9f3a"
             ],
             [
              0.8888888888888888,
              "#fdca26"
             ],
             [
              1,
              "#f0f921"
             ]
            ],
            "type": "heatmap"
           }
          ],
          "histogram": [
           {
            "marker": {
             "pattern": {
              "fillmode": "overlay",
              "size": 10,
              "solidity": 0.2
             }
            },
            "type": "histogram"
           }
          ],
          "histogram2d": [
           {
            "colorbar": {
             "outlinewidth": 0,
             "ticks": ""
            },
            "colorscale": [
             [
              0,
              "#0d0887"
             ],
             [
              0.1111111111111111,
              "#46039f"
             ],
             [
              0.2222222222222222,
              "#7201a8"
             ],
             [
              0.3333333333333333,
              "#9c179e"
             ],
             [
              0.4444444444444444,
              "#bd3786"
             ],
             [
              0.5555555555555556,
              "#d8576b"
             ],
             [
              0.6666666666666666,
              "#ed7953"
             ],
             [
              0.7777777777777778,
              "#fb9f3a"
             ],
             [
              0.8888888888888888,
              "#fdca26"
             ],
             [
              1,
              "#f0f921"
             ]
            ],
            "type": "histogram2d"
           }
          ],
          "histogram2dcontour": [
           {
            "colorbar": {
             "outlinewidth": 0,
             "ticks": ""
            },
            "colorscale": [
             [
              0,
              "#0d0887"
             ],
             [
              0.1111111111111111,
              "#46039f"
             ],
             [
              0.2222222222222222,
              "#7201a8"
             ],
             [
              0.3333333333333333,
              "#9c179e"
             ],
             [
              0.4444444444444444,
              "#bd3786"
             ],
             [
              0.5555555555555556,
              "#d8576b"
             ],
             [
              0.6666666666666666,
              "#ed7953"
             ],
             [
              0.7777777777777778,
              "#fb9f3a"
             ],
             [
              0.8888888888888888,
              "#fdca26"
             ],
             [
              1,
              "#f0f921"
             ]
            ],
            "type": "histogram2dcontour"
           }
          ],
          "mesh3d": [
           {
            "colorbar": {
             "outlinewidth": 0,
             "ticks": ""
            },
            "type": "mesh3d"
           }
          ],
          "parcoords": [
           {
            "line": {
             "colorbar": {
              "outlinewidth": 0,
              "ticks": ""
             }
            },
            "type": "parcoords"
           }
          ],
          "pie": [
           {
            "automargin": true,
            "type": "pie"
           }
          ],
          "scatter": [
           {
            "fillpattern": {
             "fillmode": "overlay",
             "size": 10,
             "solidity": 0.2
            },
            "type": "scatter"
           }
          ],
          "scatter3d": [
           {
            "line": {
             "colorbar": {
              "outlinewidth": 0,
              "ticks": ""
             }
            },
            "marker": {
             "colorbar": {
              "outlinewidth": 0,
              "ticks": ""
             }
            },
            "type": "scatter3d"
           }
          ],
          "scattercarpet": [
           {
            "marker": {
             "colorbar": {
              "outlinewidth": 0,
              "ticks": ""
             }
            },
            "type": "scattercarpet"
           }
          ],
          "scattergeo": [
           {
            "marker": {
             "colorbar": {
              "outlinewidth": 0,
              "ticks": ""
             }
            },
            "type": "scattergeo"
           }
          ],
          "scattergl": [
           {
            "marker": {
             "colorbar": {
              "outlinewidth": 0,
              "ticks": ""
             }
            },
            "type": "scattergl"
           }
          ],
          "scattermap": [
           {
            "marker": {
             "colorbar": {
              "outlinewidth": 0,
              "ticks": ""
             }
            },
            "type": "scattermap"
           }
          ],
          "scattermapbox": [
           {
            "marker": {
             "colorbar": {
              "outlinewidth": 0,
              "ticks": ""
             }
            },
            "type": "scattermapbox"
           }
          ],
          "scatterpolar": [
           {
            "marker": {
             "colorbar": {
              "outlinewidth": 0,
              "ticks": ""
             }
            },
            "type": "scatterpolar"
           }
          ],
          "scatterpolargl": [
           {
            "marker": {
             "colorbar": {
              "outlinewidth": 0,
              "ticks": ""
             }
            },
            "type": "scatterpolargl"
           }
          ],
          "scatterternary": [
           {
            "marker": {
             "colorbar": {
              "outlinewidth": 0,
              "ticks": ""
             }
            },
            "type": "scatterternary"
           }
          ],
          "surface": [
           {
            "colorbar": {
             "outlinewidth": 0,
             "ticks": ""
            },
            "colorscale": [
             [
              0,
              "#0d0887"
             ],
             [
              0.1111111111111111,
              "#46039f"
             ],
             [
              0.2222222222222222,
              "#7201a8"
             ],
             [
              0.3333333333333333,
              "#9c179e"
             ],
             [
              0.4444444444444444,
              "#bd3786"
             ],
             [
              0.5555555555555556,
              "#d8576b"
             ],
             [
              0.6666666666666666,
              "#ed7953"
             ],
             [
              0.7777777777777778,
              "#fb9f3a"
             ],
             [
              0.8888888888888888,
              "#fdca26"
             ],
             [
              1,
              "#f0f921"
             ]
            ],
            "type": "surface"
           }
          ],
          "table": [
           {
            "cells": {
             "fill": {
              "color": "#EBF0F8"
             },
             "line": {
              "color": "white"
             }
            },
            "header": {
             "fill": {
              "color": "#C8D4E3"
             },
             "line": {
              "color": "white"
             }
            },
            "type": "table"
           }
          ]
         },
         "layout": {
          "annotationdefaults": {
           "arrowcolor": "#2a3f5f",
           "arrowhead": 0,
           "arrowwidth": 1
          },
          "autotypenumbers": "strict",
          "coloraxis": {
           "colorbar": {
            "outlinewidth": 0,
            "ticks": ""
           }
          },
          "colorscale": {
           "diverging": [
            [
             0,
             "#8e0152"
            ],
            [
             0.1,
             "#c51b7d"
            ],
            [
             0.2,
             "#de77ae"
            ],
            [
             0.3,
             "#f1b6da"
            ],
            [
             0.4,
             "#fde0ef"
            ],
            [
             0.5,
             "#f7f7f7"
            ],
            [
             0.6,
             "#e6f5d0"
            ],
            [
             0.7,
             "#b8e186"
            ],
            [
             0.8,
             "#7fbc41"
            ],
            [
             0.9,
             "#4d9221"
            ],
            [
             1,
             "#276419"
            ]
           ],
           "sequential": [
            [
             0,
             "#0d0887"
            ],
            [
             0.1111111111111111,
             "#46039f"
            ],
            [
             0.2222222222222222,
             "#7201a8"
            ],
            [
             0.3333333333333333,
             "#9c179e"
            ],
            [
             0.4444444444444444,
             "#bd3786"
            ],
            [
             0.5555555555555556,
             "#d8576b"
            ],
            [
             0.6666666666666666,
             "#ed7953"
            ],
            [
             0.7777777777777778,
             "#fb9f3a"
            ],
            [
             0.8888888888888888,
             "#fdca26"
            ],
            [
             1,
             "#f0f921"
            ]
           ],
           "sequentialminus": [
            [
             0,
             "#0d0887"
            ],
            [
             0.1111111111111111,
             "#46039f"
            ],
            [
             0.2222222222222222,
             "#7201a8"
            ],
            [
             0.3333333333333333,
             "#9c179e"
            ],
            [
             0.4444444444444444,
             "#bd3786"
            ],
            [
             0.5555555555555556,
             "#d8576b"
            ],
            [
             0.6666666666666666,
             "#ed7953"
            ],
            [
             0.7777777777777778,
             "#fb9f3a"
            ],
            [
             0.8888888888888888,
             "#fdca26"
            ],
            [
             1,
             "#f0f921"
            ]
           ]
          },
          "colorway": [
           "#636efa",
           "#EF553B",
           "#00cc96",
           "#ab63fa",
           "#FFA15A",
           "#19d3f3",
           "#FF6692",
           "#B6E880",
           "#FF97FF",
           "#FECB52"
          ],
          "font": {
           "color": "#2a3f5f"
          },
          "geo": {
           "bgcolor": "white",
           "lakecolor": "white",
           "landcolor": "#E5ECF6",
           "showlakes": true,
           "showland": true,
           "subunitcolor": "white"
          },
          "hoverlabel": {
           "align": "left"
          },
          "hovermode": "closest",
          "mapbox": {
           "style": "light"
          },
          "paper_bgcolor": "white",
          "plot_bgcolor": "#E5ECF6",
          "polar": {
           "angularaxis": {
            "gridcolor": "white",
            "linecolor": "white",
            "ticks": ""
           },
           "bgcolor": "#E5ECF6",
           "radialaxis": {
            "gridcolor": "white",
            "linecolor": "white",
            "ticks": ""
           }
          },
          "scene": {
           "xaxis": {
            "backgroundcolor": "#E5ECF6",
            "gridcolor": "white",
            "gridwidth": 2,
            "linecolor": "white",
            "showbackground": true,
            "ticks": "",
            "zerolinecolor": "white"
           },
           "yaxis": {
            "backgroundcolor": "#E5ECF6",
            "gridcolor": "white",
            "gridwidth": 2,
            "linecolor": "white",
            "showbackground": true,
            "ticks": "",
            "zerolinecolor": "white"
           },
           "zaxis": {
            "backgroundcolor": "#E5ECF6",
            "gridcolor": "white",
            "gridwidth": 2,
            "linecolor": "white",
            "showbackground": true,
            "ticks": "",
            "zerolinecolor": "white"
           }
          },
          "shapedefaults": {
           "line": {
            "color": "#2a3f5f"
           }
          },
          "ternary": {
           "aaxis": {
            "gridcolor": "white",
            "linecolor": "white",
            "ticks": ""
           },
           "baxis": {
            "gridcolor": "white",
            "linecolor": "white",
            "ticks": ""
           },
           "bgcolor": "#E5ECF6",
           "caxis": {
            "gridcolor": "white",
            "linecolor": "white",
            "ticks": ""
           }
          },
          "title": {
           "x": 0.05
          },
          "xaxis": {
           "automargin": true,
           "gridcolor": "white",
           "linecolor": "white",
           "ticks": "",
           "title": {
            "standoff": 15
           },
           "zerolinecolor": "white",
           "zerolinewidth": 2
          },
          "yaxis": {
           "automargin": true,
           "gridcolor": "white",
           "linecolor": "white",
           "ticks": "",
           "title": {
            "standoff": 15
           },
           "zerolinecolor": "white",
           "zerolinewidth": 2
          }
         }
        },
        "title": {
         "text": "Top 50 Term Frequencies"
        },
        "xaxis": {
         "anchor": "y",
         "domain": [
          0,
          1
         ],
         "title": {
          "text": "Term"
         }
        },
        "yaxis": {
         "anchor": "x",
         "domain": [
          0,
          1
         ],
         "title": {
          "text": "Frequency"
         }
        }
       }
      }
     },
     "metadata": {},
     "output_type": "display_data"
    }
   ],
   "source": [
    "#Transforming text data and producing interactive visualisations, with only top 50 most frequent terms in descending order\n",
    "import plotly.express as px\n",
    "term_freq = np.asarray(df_subset_counts.sum(axis=0)).ravel()\n",
    "\n",
    "#Selecting top 50 most frequent terms\n",
    "top_terms_index = term_freq.argsort()[::-1][:50]\n",
    "\n",
    "top_terms = count_vect.get_feature_names_out()[top_terms_index]\n",
    "top_counts = term_freq[top_terms_index]\n",
    "\n",
    "fix = px.bar(\n",
    "    x = top_terms,\n",
    "    y = top_counts,\n",
    "    labels = {'x': 'Term', 'y':'Frequency'},\n",
    "    title = f'Top 50 Term Frequencies'\n",
    ")\n",
    "\n",
    "fix.show()"
   ]
  },
  {
   "cell_type": "code",
   "execution_count": 114,
   "metadata": {},
   "outputs": [
    {
     "data": {
      "application/vnd.plotly.v1+json": {
       "config": {
        "plotlyServerURL": "https://plot.ly"
       },
       "data": [
        {
         "hovertemplate": "Term=%{x}<br>Log Frequency=%{y}<extra></extra>",
         "legendgroup": "",
         "marker": {
          "color": "#636efa",
          "pattern": {
           "shape": ""
          }
         },
         "name": "",
         "orientation": "v",
         "showlegend": false,
         "textposition": "auto",
         "type": "bar",
         "x": [
          "the",
          "to",
          "and",
          "is",
          "it",
          "of",
          "in",
          "you",
          "that",
          "this",
          "for",
          "on",
          "are",
          "will",
          "be",
          "but",
          "if",
          "they",
          "with",
          "us",
          "as",
          "he",
          "all",
          "at",
          "my",
          "have",
          "so",
          "not",
          "like",
          "was",
          "what",
          "trump",
          "we",
          "or",
          "just",
          "there",
          "market",
          "can",
          "now",
          "no",
          "has",
          "your",
          "from",
          "people",
          "china",
          "their",
          "by",
          "think",
          "more",
          "re"
         ],
         "xaxis": "x",
         "y": {
          "bdata": "4Pq4AK1/GECl3OHT1fgWQB9ITTkWqhVApZVzEblAFUDwUdOPlTYVQPr4Q6J3LBRAUwA4zrERFEBCLmCUcmATQFPWiYzSHRNAvceH3/h/EkC9x4ff+H8SQL3Hh9/4fxJARr3pakDREUAKo/heRsURQBLowMKrUhFAP1f0XE4bEUAhQWeJdf4QQLsalJ257xBAdSmUk5KyEEBzqzs/sqIQQBsY4+iRkhBADWwS64hxEECLMmXcm2AQQIsyZdybYBBAUGwqy/UZEEBQbCrL9RkQQFBsKsv1GRBAUGwqy/UZEEBJqa6qJZwPQEmprqolnA9A/wBR/2B0D0B1u1A8OPgOQHW7UDw4+A5AQ1T8NgVGDkBDVPw2BUYOQBHsFBbwFg5AEewUFvAWDkAR7BQW8BYOQC09LlS/5g1ATqyORWW1DUDWDYho+U4NQNYNiGj5Tg1AqEHDxcYZDUC9xzruKOMMQL3HOu4o4wxAxfMPU1pxDEDF8w9TWnEMQPYNuYH8NQxA9g25gfw1DEDRuNX02PgLQA==",
          "dtype": "f8"
         },
         "yaxis": "y"
        }
       ],
       "layout": {
        "barmode": "relative",
        "legend": {
         "tracegroupgap": 0
        },
        "template": {
         "data": {
          "bar": [
           {
            "error_x": {
             "color": "#2a3f5f"
            },
            "error_y": {
             "color": "#2a3f5f"
            },
            "marker": {
             "line": {
              "color": "#E5ECF6",
              "width": 0.5
             },
             "pattern": {
              "fillmode": "overlay",
              "size": 10,
              "solidity": 0.2
             }
            },
            "type": "bar"
           }
          ],
          "barpolar": [
           {
            "marker": {
             "line": {
              "color": "#E5ECF6",
              "width": 0.5
             },
             "pattern": {
              "fillmode": "overlay",
              "size": 10,
              "solidity": 0.2
             }
            },
            "type": "barpolar"
           }
          ],
          "carpet": [
           {
            "aaxis": {
             "endlinecolor": "#2a3f5f",
             "gridcolor": "white",
             "linecolor": "white",
             "minorgridcolor": "white",
             "startlinecolor": "#2a3f5f"
            },
            "baxis": {
             "endlinecolor": "#2a3f5f",
             "gridcolor": "white",
             "linecolor": "white",
             "minorgridcolor": "white",
             "startlinecolor": "#2a3f5f"
            },
            "type": "carpet"
           }
          ],
          "choropleth": [
           {
            "colorbar": {
             "outlinewidth": 0,
             "ticks": ""
            },
            "type": "choropleth"
           }
          ],
          "contour": [
           {
            "colorbar": {
             "outlinewidth": 0,
             "ticks": ""
            },
            "colorscale": [
             [
              0,
              "#0d0887"
             ],
             [
              0.1111111111111111,
              "#46039f"
             ],
             [
              0.2222222222222222,
              "#7201a8"
             ],
             [
              0.3333333333333333,
              "#9c179e"
             ],
             [
              0.4444444444444444,
              "#bd3786"
             ],
             [
              0.5555555555555556,
              "#d8576b"
             ],
             [
              0.6666666666666666,
              "#ed7953"
             ],
             [
              0.7777777777777778,
              "#fb9f3a"
             ],
             [
              0.8888888888888888,
              "#fdca26"
             ],
             [
              1,
              "#f0f921"
             ]
            ],
            "type": "contour"
           }
          ],
          "contourcarpet": [
           {
            "colorbar": {
             "outlinewidth": 0,
             "ticks": ""
            },
            "type": "contourcarpet"
           }
          ],
          "heatmap": [
           {
            "colorbar": {
             "outlinewidth": 0,
             "ticks": ""
            },
            "colorscale": [
             [
              0,
              "#0d0887"
             ],
             [
              0.1111111111111111,
              "#46039f"
             ],
             [
              0.2222222222222222,
              "#7201a8"
             ],
             [
              0.3333333333333333,
              "#9c179e"
             ],
             [
              0.4444444444444444,
              "#bd3786"
             ],
             [
              0.5555555555555556,
              "#d8576b"
             ],
             [
              0.6666666666666666,
              "#ed7953"
             ],
             [
              0.7777777777777778,
              "#fb9f3a"
             ],
             [
              0.8888888888888888,
              "#fdca26"
             ],
             [
              1,
              "#f0f921"
             ]
            ],
            "type": "heatmap"
           }
          ],
          "histogram": [
           {
            "marker": {
             "pattern": {
              "fillmode": "overlay",
              "size": 10,
              "solidity": 0.2
             }
            },
            "type": "histogram"
           }
          ],
          "histogram2d": [
           {
            "colorbar": {
             "outlinewidth": 0,
             "ticks": ""
            },
            "colorscale": [
             [
              0,
              "#0d0887"
             ],
             [
              0.1111111111111111,
              "#46039f"
             ],
             [
              0.2222222222222222,
              "#7201a8"
             ],
             [
              0.3333333333333333,
              "#9c179e"
             ],
             [
              0.4444444444444444,
              "#bd3786"
             ],
             [
              0.5555555555555556,
              "#d8576b"
             ],
             [
              0.6666666666666666,
              "#ed7953"
             ],
             [
              0.7777777777777778,
              "#fb9f3a"
             ],
             [
              0.8888888888888888,
              "#fdca26"
             ],
             [
              1,
              "#f0f921"
             ]
            ],
            "type": "histogram2d"
           }
          ],
          "histogram2dcontour": [
           {
            "colorbar": {
             "outlinewidth": 0,
             "ticks": ""
            },
            "colorscale": [
             [
              0,
              "#0d0887"
             ],
             [
              0.1111111111111111,
              "#46039f"
             ],
             [
              0.2222222222222222,
              "#7201a8"
             ],
             [
              0.3333333333333333,
              "#9c179e"
             ],
             [
              0.4444444444444444,
              "#bd3786"
             ],
             [
              0.5555555555555556,
              "#d8576b"
             ],
             [
              0.6666666666666666,
              "#ed7953"
             ],
             [
              0.7777777777777778,
              "#fb9f3a"
             ],
             [
              0.8888888888888888,
              "#fdca26"
             ],
             [
              1,
              "#f0f921"
             ]
            ],
            "type": "histogram2dcontour"
           }
          ],
          "mesh3d": [
           {
            "colorbar": {
             "outlinewidth": 0,
             "ticks": ""
            },
            "type": "mesh3d"
           }
          ],
          "parcoords": [
           {
            "line": {
             "colorbar": {
              "outlinewidth": 0,
              "ticks": ""
             }
            },
            "type": "parcoords"
           }
          ],
          "pie": [
           {
            "automargin": true,
            "type": "pie"
           }
          ],
          "scatter": [
           {
            "fillpattern": {
             "fillmode": "overlay",
             "size": 10,
             "solidity": 0.2
            },
            "type": "scatter"
           }
          ],
          "scatter3d": [
           {
            "line": {
             "colorbar": {
              "outlinewidth": 0,
              "ticks": ""
             }
            },
            "marker": {
             "colorbar": {
              "outlinewidth": 0,
              "ticks": ""
             }
            },
            "type": "scatter3d"
           }
          ],
          "scattercarpet": [
           {
            "marker": {
             "colorbar": {
              "outlinewidth": 0,
              "ticks": ""
             }
            },
            "type": "scattercarpet"
           }
          ],
          "scattergeo": [
           {
            "marker": {
             "colorbar": {
              "outlinewidth": 0,
              "ticks": ""
             }
            },
            "type": "scattergeo"
           }
          ],
          "scattergl": [
           {
            "marker": {
             "colorbar": {
              "outlinewidth": 0,
              "ticks": ""
             }
            },
            "type": "scattergl"
           }
          ],
          "scattermap": [
           {
            "marker": {
             "colorbar": {
              "outlinewidth": 0,
              "ticks": ""
             }
            },
            "type": "scattermap"
           }
          ],
          "scattermapbox": [
           {
            "marker": {
             "colorbar": {
              "outlinewidth": 0,
              "ticks": ""
             }
            },
            "type": "scattermapbox"
           }
          ],
          "scatterpolar": [
           {
            "marker": {
             "colorbar": {
              "outlinewidth": 0,
              "ticks": ""
             }
            },
            "type": "scatterpolar"
           }
          ],
          "scatterpolargl": [
           {
            "marker": {
             "colorbar": {
              "outlinewidth": 0,
              "ticks": ""
             }
            },
            "type": "scatterpolargl"
           }
          ],
          "scatterternary": [
           {
            "marker": {
             "colorbar": {
              "outlinewidth": 0,
              "ticks": ""
             }
            },
            "type": "scatterternary"
           }
          ],
          "surface": [
           {
            "colorbar": {
             "outlinewidth": 0,
             "ticks": ""
            },
            "colorscale": [
             [
              0,
              "#0d0887"
             ],
             [
              0.1111111111111111,
              "#46039f"
             ],
             [
              0.2222222222222222,
              "#7201a8"
             ],
             [
              0.3333333333333333,
              "#9c179e"
             ],
             [
              0.4444444444444444,
              "#bd3786"
             ],
             [
              0.5555555555555556,
              "#d8576b"
             ],
             [
              0.6666666666666666,
              "#ed7953"
             ],
             [
              0.7777777777777778,
              "#fb9f3a"
             ],
             [
              0.8888888888888888,
              "#fdca26"
             ],
             [
              1,
              "#f0f921"
             ]
            ],
            "type": "surface"
           }
          ],
          "table": [
           {
            "cells": {
             "fill": {
              "color": "#EBF0F8"
             },
             "line": {
              "color": "white"
             }
            },
            "header": {
             "fill": {
              "color": "#C8D4E3"
             },
             "line": {
              "color": "white"
             }
            },
            "type": "table"
           }
          ]
         },
         "layout": {
          "annotationdefaults": {
           "arrowcolor": "#2a3f5f",
           "arrowhead": 0,
           "arrowwidth": 1
          },
          "autotypenumbers": "strict",
          "coloraxis": {
           "colorbar": {
            "outlinewidth": 0,
            "ticks": ""
           }
          },
          "colorscale": {
           "diverging": [
            [
             0,
             "#8e0152"
            ],
            [
             0.1,
             "#c51b7d"
            ],
            [
             0.2,
             "#de77ae"
            ],
            [
             0.3,
             "#f1b6da"
            ],
            [
             0.4,
             "#fde0ef"
            ],
            [
             0.5,
             "#f7f7f7"
            ],
            [
             0.6,
             "#e6f5d0"
            ],
            [
             0.7,
             "#b8e186"
            ],
            [
             0.8,
             "#7fbc41"
            ],
            [
             0.9,
             "#4d9221"
            ],
            [
             1,
             "#276419"
            ]
           ],
           "sequential": [
            [
             0,
             "#0d0887"
            ],
            [
             0.1111111111111111,
             "#46039f"
            ],
            [
             0.2222222222222222,
             "#7201a8"
            ],
            [
             0.3333333333333333,
             "#9c179e"
            ],
            [
             0.4444444444444444,
             "#bd3786"
            ],
            [
             0.5555555555555556,
             "#d8576b"
            ],
            [
             0.6666666666666666,
             "#ed7953"
            ],
            [
             0.7777777777777778,
             "#fb9f3a"
            ],
            [
             0.8888888888888888,
             "#fdca26"
            ],
            [
             1,
             "#f0f921"
            ]
           ],
           "sequentialminus": [
            [
             0,
             "#0d0887"
            ],
            [
             0.1111111111111111,
             "#46039f"
            ],
            [
             0.2222222222222222,
             "#7201a8"
            ],
            [
             0.3333333333333333,
             "#9c179e"
            ],
            [
             0.4444444444444444,
             "#bd3786"
            ],
            [
             0.5555555555555556,
             "#d8576b"
            ],
            [
             0.6666666666666666,
             "#ed7953"
            ],
            [
             0.7777777777777778,
             "#fb9f3a"
            ],
            [
             0.8888888888888888,
             "#fdca26"
            ],
            [
             1,
             "#f0f921"
            ]
           ]
          },
          "colorway": [
           "#636efa",
           "#EF553B",
           "#00cc96",
           "#ab63fa",
           "#FFA15A",
           "#19d3f3",
           "#FF6692",
           "#B6E880",
           "#FF97FF",
           "#FECB52"
          ],
          "font": {
           "color": "#2a3f5f"
          },
          "geo": {
           "bgcolor": "white",
           "lakecolor": "white",
           "landcolor": "#E5ECF6",
           "showlakes": true,
           "showland": true,
           "subunitcolor": "white"
          },
          "hoverlabel": {
           "align": "left"
          },
          "hovermode": "closest",
          "mapbox": {
           "style": "light"
          },
          "paper_bgcolor": "white",
          "plot_bgcolor": "#E5ECF6",
          "polar": {
           "angularaxis": {
            "gridcolor": "white",
            "linecolor": "white",
            "ticks": ""
           },
           "bgcolor": "#E5ECF6",
           "radialaxis": {
            "gridcolor": "white",
            "linecolor": "white",
            "ticks": ""
           }
          },
          "scene": {
           "xaxis": {
            "backgroundcolor": "#E5ECF6",
            "gridcolor": "white",
            "gridwidth": 2,
            "linecolor": "white",
            "showbackground": true,
            "ticks": "",
            "zerolinecolor": "white"
           },
           "yaxis": {
            "backgroundcolor": "#E5ECF6",
            "gridcolor": "white",
            "gridwidth": 2,
            "linecolor": "white",
            "showbackground": true,
            "ticks": "",
            "zerolinecolor": "white"
           },
           "zaxis": {
            "backgroundcolor": "#E5ECF6",
            "gridcolor": "white",
            "gridwidth": 2,
            "linecolor": "white",
            "showbackground": true,
            "ticks": "",
            "zerolinecolor": "white"
           }
          },
          "shapedefaults": {
           "line": {
            "color": "#2a3f5f"
           }
          },
          "ternary": {
           "aaxis": {
            "gridcolor": "white",
            "linecolor": "white",
            "ticks": ""
           },
           "baxis": {
            "gridcolor": "white",
            "linecolor": "white",
            "ticks": ""
           },
           "bgcolor": "#E5ECF6",
           "caxis": {
            "gridcolor": "white",
            "linecolor": "white",
            "ticks": ""
           }
          },
          "title": {
           "x": 0.05
          },
          "xaxis": {
           "automargin": true,
           "gridcolor": "white",
           "linecolor": "white",
           "ticks": "",
           "title": {
            "standoff": 15
           },
           "zerolinecolor": "white",
           "zerolinewidth": 2
          },
          "yaxis": {
           "automargin": true,
           "gridcolor": "white",
           "linecolor": "white",
           "ticks": "",
           "title": {
            "standoff": 15
           },
           "zerolinecolor": "white",
           "zerolinewidth": 2
          }
         }
        },
        "title": {
         "text": "Top 50 Term (Log-Transformed Frequencies)"
        },
        "xaxis": {
         "anchor": "y",
         "domain": [
          0,
          1
         ],
         "title": {
          "text": "Term"
         }
        },
        "yaxis": {
         "anchor": "x",
         "domain": [
          0,
          1
         ],
         "title": {
          "text": "Log Frequency"
         }
        }
       }
      }
     },
     "metadata": {},
     "output_type": "display_data"
    }
   ],
   "source": [
    "#Applying log transformation to the above visualisation\n",
    "term_freq = np.asarray(df_subset_counts.sum(axis=0)).ravel()\n",
    "term_freq_log = np.log1p(term_freq)\n",
    "\n",
    "top_terms_index = term_freq.argsort()[::-1][:50]\n",
    "\n",
    "top_terms = count_vect.get_feature_names_out()[top_terms_index]\n",
    "top_counts = term_freq_log[top_terms_index]\n",
    "\n",
    "fix2 = px.bar(\n",
    "    x = top_terms,\n",
    "    y = top_counts,\n",
    "    labels = {'x': 'Term', 'y':'Log Frequency'},\n",
    "    title = f'Top 50 Term (Log-Transformed Frequencies)'\n",
    ")\n",
    "\n",
    "fix2.show()"
   ]
  },
  {
   "cell_type": "code",
   "execution_count": 118,
   "metadata": {},
   "outputs": [
    {
     "data": {
      "text/plain": [
       "<function matplotlib.pyplot.show(close=None, block=None)>"
      ]
     },
     "execution_count": 118,
     "metadata": {},
     "output_type": "execute_result"
    },
    {
     "data": {
      "image/png": "[encoded data removed]",
      "text/plain": [
       "<Figure size 640x480 with 1 Axes>"
      ]
     },
     "metadata": {},
     "output_type": "display_data"
    }
   ],
   "source": [
    "#Generating new visualisations\n",
    "#Visual 1: Histogram of sentiments by subreddit - noting that this is for the entire (original) dataframe\n",
    "sns.countplot(x = 'sentiment', hue = 'subreddit', data=df)\n",
    "plt.title(\"Sentiment distribution by subreddit\")\n",
    "plt.ylabel(\"Count\")\n",
    "plt.xlabel(\"Sentiment\")\n",
    "plt.show\n",
    "\n"
   ]
  },
  {
   "cell_type": "code",
   "execution_count": null,
   "metadata": {},
   "outputs": [
    {
     "data": {
      "image/png": "[encoded data removed]",
      "text/plain": [
       "<Figure size 640x480 with 1 Axes>"
      ]
     },
     "metadata": {},
     "output_type": "display_data"
    }
   ],
   "source": [
    "#Visual 2: Boxplot of upvote ratios across subreddits\n",
    "sns.boxplot(x = 'subreddit', y = 'upvote_ratio', data=df)\n",
    "plt.title(\"Upvote Ratio Distribution per subreddit\")\n",
    "plt.show()\n",
    "\n",
    "#Though the resulting visualisation is not very interesting, it indicates that use of downvotes tends to be extremely limited.\n",
    "#However in some cases - for example 'stockstobuytoday' with the presence of outliers, it can be observed that there were particularly \n",
    "#polarising posts prompting more downvotes, evidently causing many divided opinions. "
   ]
  },
  {
   "cell_type": "markdown",
   "metadata": {},
   "source": [
    "# Phase 2"
   ]
  },
  {
   "cell_type": "code",
   "execution_count": 82,
   "metadata": {},
   "outputs": [],
   "source": [
    "### Begin Assignment Here"
   ]
  }
 ],
 "metadata": {
  "kernelspec": {
   "display_name": "DM2025-Lab1-Exercise",
   "language": "python",
   "name": "python3"
  },
  "language_info": {
   "codemirror_mode": {
    "name": "ipython",
    "version": 3
   },
   "file_extension": ".py",
   "mimetype": "text/x-python",
   "name": "python",
   "nbconvert_exporter": "python",
   "pygments_lexer": "ipython3",
   "version": "3.11.0"
  }
 },
 "nbformat": 4,
 "nbformat_minor": 4
}
